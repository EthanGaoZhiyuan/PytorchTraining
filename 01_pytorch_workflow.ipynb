{
 "cells": [
  {
   "cell_type": "markdown",
   "metadata": {},
   "source": [
    "# PyTorch Workflow\n",
    "\n",
    "Let's explore a an example PyTorch end-to-end workflow."
   ]
  },
  {
   "cell_type": "code",
   "execution_count": 1,
   "metadata": {},
   "outputs": [
    {
     "data": {
      "text/plain": [
       "{1: 'data (prepare and load)',\n",
       " 2: 'build model',\n",
       " 3: 'fitting the model to data (training)',\n",
       " 4: 'making predictions and evaluating a model (inference)',\n",
       " 5: 'saving and loading a model',\n",
       " 6: 'putting it all together'}"
      ]
     },
     "execution_count": 1,
     "metadata": {},
     "output_type": "execute_result"
    }
   ],
   "source": [
    "what_were_covering = {1: \"data (prepare and load)\",\n",
    "                      2: \"build model\",\n",
    "                      3: \"fitting the model to data (training)\",\n",
    "                      4: \"making predictions and evaluating a model (inference)\",\n",
    "                      5: \"saving and loading a model\",\n",
    "                      6: \"putting it all together\"\n",
    "                      }\n",
    "what_were_covering"
   ]
  },
  {
   "cell_type": "code",
   "execution_count": 2,
   "metadata": {},
   "outputs": [
    {
     "name": "stdout",
     "output_type": "stream",
     "text": [
      "mps\n"
     ]
    },
    {
     "data": {
      "text/plain": [
       "'2.6.0'"
      ]
     },
     "execution_count": 2,
     "metadata": {},
     "output_type": "execute_result"
    }
   ],
   "source": [
    "import torch\n",
    "from torch import nn    # nn contains all of PyTorch's building blocks for neural networks\n",
    "import matplotlib.pyplot as plt\n",
    "\n",
    "device = 'cuda' if torch.cuda.is_available() else 'mps' if torch.mps.is_available() else 'cpu'\n",
    "\n",
    "print(device)\n",
    "torch.__version__"
   ]
  },
  {
   "cell_type": "markdown",
   "metadata": {},
   "source": [
    "## 1. Data (preparing and loading)\n",
    "\n",
    "Data can be almost anything... in machine learning\n",
    "\n",
    "* Excel speadsheet\n",
    "* Images of any kind\n",
    "* Videos (YouTube has lots of data...)\n",
    "* Audio like songs or podcasts\n",
    "* DNA\n",
    "* Text\n",
    "\n",
    "Machine learning is a game of two parts\n",
    "1. Get data into a numerical representation.\n",
    "2. Build a model to learn patterns in that numerical representation.\n",
    "\n",
    "To showcase this, let's create some *known* data using the linear regression formula.\n",
    "\n",
    "We'll use a linear regression formula to make a straight line with known **parameters**"
   ]
  },
  {
   "cell_type": "code",
   "execution_count": 3,
   "metadata": {},
   "outputs": [
    {
     "data": {
      "text/plain": [
       "(tensor([[0.0000],\n",
       "         [0.0200],\n",
       "         [0.0400],\n",
       "         [0.0600],\n",
       "         [0.0800],\n",
       "         [0.1000],\n",
       "         [0.1200],\n",
       "         [0.1400],\n",
       "         [0.1600],\n",
       "         [0.1800]]),\n",
       " tensor([[0.3000],\n",
       "         [0.3140],\n",
       "         [0.3280],\n",
       "         [0.3420],\n",
       "         [0.3560],\n",
       "         [0.3700],\n",
       "         [0.3840],\n",
       "         [0.3980],\n",
       "         [0.4120],\n",
       "         [0.4260]]),\n",
       " 50,\n",
       " 50)"
      ]
     },
     "execution_count": 3,
     "metadata": {},
     "output_type": "execute_result"
    }
   ],
   "source": [
    "# Create *known* parameters\n",
    "weight = 0.7\n",
    "bias = 0.3\n",
    "\n",
    "# Create data\n",
    "start = 0\n",
    "end = 1\n",
    "step = 0.02\n",
    "X = torch.arange(start, end, step).unsqueeze(dim=1)\n",
    "y = weight * X + bias\n",
    "\n",
    "X[:10], y[:10], len(X), len(y)"
   ]
  },
  {
   "cell_type": "markdown",
   "metadata": {},
   "source": [
    "### Splitting data into training and test sets (one of the most important concepts in machine learning in general)\n",
    "\n",
    "Let's create a training and test set with our data"
   ]
  },
  {
   "cell_type": "code",
   "execution_count": 4,
   "metadata": {},
   "outputs": [
    {
     "data": {
      "text/plain": [
       "(40, 10, 40, 10)"
      ]
     },
     "execution_count": 4,
     "metadata": {},
     "output_type": "execute_result"
    }
   ],
   "source": [
    "# Create train/test split\n",
    "train_split = int(0.8 * len(X)) # 80% of data used for training set, 20% for testing\n",
    "X_train, y_train = X[:train_split], y[:train_split]\n",
    "X_test, y_test = X[train_split:], y[train_split:]\n",
    "\n",
    "len(X_train), len(X_test), len(y_train), len(y_test)"
   ]
  },
  {
   "cell_type": "markdown",
   "metadata": {},
   "source": [
    "How might we better visualize our data?\n",
    "\n",
    "This is where the data explorer's motto come in!\n",
    "\n",
    "\"Visualize, visualize, visualize!\""
   ]
  },
  {
   "cell_type": "code",
   "execution_count": 5,
   "metadata": {},
   "outputs": [],
   "source": [
    "def plot_predictions(train_data=X_train,\n",
    "                     train_labels=y_train,\n",
    "                     test_data=X_test,\n",
    "                     test_labels=y_test,\n",
    "                     predictions=None):\n",
    "    \"\"\"\n",
    "    Plots training data, test data and compares predictions.\n",
    "    \"\"\"\n",
    "    plt.figure(figsize=(10, 7))\n",
    "    # Plot training data in blue\n",
    "    plt.scatter(train_data, train_labels, c='b', s=4, label='Training data')\n",
    "    # Plot test data in green\n",
    "    plt.scatter(test_data, test_labels, c='g', s=4, label='Testing data')\n",
    "    # Are there predictions?\n",
    "    if predictions is not None:\n",
    "        # Plot the predictions in red if they exist\n",
    "        plt.scatter(test_data, predictions, c='r', s=4, label='Predictions')\n",
    "    # Show the legend\n",
    "    plt.legend(prop={'size': 14})"
   ]
  },
  {
   "cell_type": "code",
   "execution_count": 6,
   "metadata": {},
   "outputs": [
    {
     "data": {
      "image/png": "[encoded data removed]",
      "text/plain": [
       "<Figure size 1000x700 with 1 Axes>"
      ]
     },
     "metadata": {},
     "output_type": "display_data"
    }
   ],
   "source": [
    "plot_predictions()"
   ]
  },
  {
   "cell_type": "markdown",
   "metadata": {},
   "source": [
    "## 2. Build model\n",
    "Our first PyTorch model!\n",
    "\n",
    "This is very exciting... let's do it!\n",
    "\n",
    "Because we're going to be building classes throughout the course, I'd recommend getting familiar with OOP in Python.\n",
    "\n",
    "What our model does:\n",
    "* Start with random values (weight & bias)\n",
    "* Look at training data and adjust the random values to better represent (or get closer to) the ideal values (the weight & bias values we used to create the data)\n",
    "\n",
    "How does it do so?\n",
    "\n",
    "Through two main algorithms:\n",
    "1. Gradient descent\n",
    "2. Backpropagation"
   ]
  },
  {
   "cell_type": "code",
   "execution_count": 7,
   "metadata": {},
   "outputs": [],
   "source": [
    "# Create linear regression model\n",
    "class LinearRegressionModel(nn.Module): # <- almost everything in PyTorch is a nn.Module (think of this as neural network lego blocks)\n",
    "    def __init__(self):\n",
    "        super().__init__()\n",
    "        self.weights = nn.Parameter(torch.randn(1,  # <- start with random weights (this will get adjusted as the model learns)\n",
    "                                                requires_grad=True, # <- can we update this value with gradient descent?\n",
    "                                                dtype=torch.float   # <- PyTorch loves float32 by default\n",
    "                                                ))\n",
    "        \n",
    "        self.bias = nn.Parameter(torch.randn(1, # <- start with random bias (this will get adjusted as the model learns)\n",
    "                                                requires_grad=True,    # <- can we update this value with gradient descent?\n",
    "                                                dtype=torch.float      # <- PyTorch loves float32 by default\n",
    "                                             ))\n",
    "        \n",
    "    # Forward method to define the computation in the model\n",
    "    def forward(self, x: torch.Tensor) -> torch.Tensor: # <- \"x\" is the input data (e.g. training/testing features)\n",
    "        return self.weights * x + self.bias # <- this is the linear regression formula (y = m*x +b)"
   ]
  },
  {
   "cell_type": "markdown",
   "metadata": {},
   "source": [
    "### PyTorch model building essentials\n",
    "\n",
    "* torch.nn - contains all of the buildings for computational graphs (a neural network can be considered as a computational graph)\n",
    "* torch.nn.Parameter - what parameters should our model try and learn, often a PyTorch layer from torch.nn will set these for us\n",
    "* torch.nn.Module - The base class for all neural network modules, if you subclass it, you should overwrite forward()\n",
    "* torch.optim - this where the optimizers in PyTorch live, they will help with gradient descent.\n",
    "* def forward() - All nn.Module subclasses require you to overwrite forward(), this method defines what happens in the forward computation"
   ]
  },
  {
   "cell_type": "markdown",
   "metadata": {},
   "source": [
    "### Checking the contents of our PyTorch model\n",
    "\n",
    "Now we've created a model, let's see what's inside...\n",
    "\n",
    "So we can check our model paramteters or what's inside our model using `.parameters()`"
   ]
  },
  {
   "cell_type": "code",
   "execution_count": 8,
   "metadata": {},
   "outputs": [
    {
     "data": {
      "text/plain": [
       "[Parameter containing:\n",
       " tensor([0.3367], requires_grad=True),\n",
       " Parameter containing:\n",
       " tensor([0.1288], requires_grad=True)]"
      ]
     },
     "execution_count": 8,
     "metadata": {},
     "output_type": "execute_result"
    }
   ],
   "source": [
    "# Set manual seed since nn.Parameter are randomly initialized\n",
    "torch.manual_seed(42)\n",
    "\n",
    "# Create an instance of the model (this is a subclass of nn.Module that contains nn.Parameters(s))\n",
    "model_0 = LinearRegressionModel()\n",
    "\n",
    "# Check the nn.Parameter(s) within the nn.Module subclass we created\n",
    "list(model_0.parameters())"
   ]
  },
  {
   "cell_type": "code",
   "execution_count": 9,
   "metadata": {},
   "outputs": [
    {
     "data": {
      "text/plain": [
       "OrderedDict([('weights', tensor([0.3367])), ('bias', tensor([0.1288]))])"
      ]
     },
     "execution_count": 9,
     "metadata": {},
     "output_type": "execute_result"
    }
   ],
   "source": [
    "# List named parameters\n",
    "model_0.state_dict()"
   ]
  },
  {
   "cell_type": "markdown",
   "metadata": {},
   "source": [
    "### Making prediction using `torch.inference_mode()`\n",
    "\n",
    "To check our model's predictive power, let's see how well it predicts `y_test` based on `X_test`\n",
    "\n",
    "When we pass data through our model, it's going to run it through the `forward()` method."
   ]
  },
  {
   "cell_type": "code",
   "execution_count": 10,
   "metadata": {},
   "outputs": [],
   "source": [
    "# Make predictions with model\n",
    "with torch.inference_mode():\n",
    "    y_preds = model_0(X_test)\n",
    "    \n",
    "# Note: in older Pytorch code you might also tee torch.no_grad()\n",
    "# with torch.no_grad():\n",
    "#    y_preds = model_0(X_test)"
   ]
  },
  {
   "cell_type": "code",
   "execution_count": 11,
   "metadata": {},
   "outputs": [
    {
     "name": "stdout",
     "output_type": "stream",
     "text": [
      "Number of testing samples: 10\n",
      "Number of predictions: 10\n",
      "Prediction values: tensor([[0.3982],\n",
      "        [0.4049],\n",
      "        [0.4116],\n",
      "        [0.4184],\n",
      "        [0.4251],\n",
      "        [0.4318],\n",
      "        [0.4386],\n",
      "        [0.4453],\n",
      "        [0.4520],\n",
      "        [0.4588]])\n"
     ]
    }
   ],
   "source": [
    "print(f\"Number of testing samples: {len(X_test)}\")\n",
    "print(f\"Number of predictions: {len(y_preds)}\")\n",
    "print(f\"Prediction values: {y_preds}\")"
   ]
  },
  {
   "cell_type": "code",
   "execution_count": 12,
   "metadata": {},
   "outputs": [
    {
     "data": {
      "image/png": "[encoded data removed]",
      "text/plain": [
       "<Figure size 1000x700 with 1 Axes>"
      ]
     },
     "metadata": {},
     "output_type": "display_data"
    }
   ],
   "source": [
    "plot_predictions(predictions=y_preds)"
   ]
  },
  {
   "cell_type": "markdown",
   "metadata": {},
   "source": [
    "## 3. Train model\n",
    "\n",
    "The whole idea of training is for a model to move from some *unknown* parameters (these may be random) to some *known* parameters.\n",
    "\n",
    "Or in other words from a poor representation of the data to a better representation of the data.\n",
    "\n",
    "One way to measure how poor or how wrong your models predictions are is to use a loss function.\n",
    "\n",
    "* Note: Loss function may also be called cost function or criterion in different areas. For our case, we're going to refer to it as a loss function.\n",
    "\n",
    "Things we need to train:\n",
    "\n",
    "* **Loss function:** A function to measure how wrong your model's predictions are to the ideal outputs, lower is better.\n",
    "* **Optimizer:** Takes into account the loss of a model and adjusts the model's parameters (e.g. weight & bias) to improve the loss function.\n",
    "\n",
    "\n",
    "And specifically for PyTorch, we need:\n",
    "* A training loop\n",
    "* A testing loop\n",
    "    + Inside the optimizer you'll often have to set two parameters:\n",
    "        - `params` - the model parameters you'd like to optimize, for example `param=model_0.parameters()`\n",
    "        - `lr`(learning rate) - the learning rate is a hyperparameter that defines how big/small the optimizer the parameters with each step (a small `lr` results in small changes, a large `lr` results in large changes)"
   ]
  },
  {
   "cell_type": "code",
   "execution_count": 13,
   "metadata": {},
   "outputs": [
    {
     "data": {
      "text/plain": [
       "tensor([[0.4618],\n",
       "        [0.4691],\n",
       "        [0.4764],\n",
       "        [0.4836],\n",
       "        [0.4909],\n",
       "        [0.4982],\n",
       "        [0.5054],\n",
       "        [0.5127],\n",
       "        [0.5200],\n",
       "        [0.5272]])"
      ]
     },
     "execution_count": 13,
     "metadata": {},
     "output_type": "execute_result"
    }
   ],
   "source": [
    "list(model_0.parameters())\n",
    "# Check out our model's parameters (a parameter is a value that the model sets itself)\n",
    "model_0.state_dict()\n",
    "y_test - y_preds"
   ]
  },
  {
   "cell_type": "code",
   "execution_count": 14,
   "metadata": {},
   "outputs": [],
   "source": [
    "# Create the loss function\n",
    "loss_fn = nn.L1Loss()   # MAE loss is same as L1Loss\n",
    "\n",
    "# Create the optimizer (stochastic gradient descent)\n",
    "optimizer = torch.optim.SGD(model_0.parameters()    # parameters of target model to optimize\n",
    "                            , lr=0.01) # <- learning rate (how much the optimizer should change parameters at each step, higher=more (less stable), lower=less (might take a long time))"
   ]
  },
  {
   "cell_type": "markdown",
   "metadata": {},
   "source": [
    "### Building a training loop (and a testing loop) in PyTorch\n",
    "\n",
    "A couple of things we need in a training loop:\n",
    "0. Loop through the data\n",
    "1. Forward pass (this involves data moving through our model's `forward()` functions) to make predictions on data - also called forward propagation\n",
    "2. Calculate the loss (compare forward pass predictions to ground truth labels)\n",
    "3. Optimizer zero grad\n",
    "4. Loss backward - move backwards through the network to calculate the gradients of each of the parameters of our model with respect to the loss (**backpropagation**)\n",
    "5. Optimizer step - use the optimizer to adjust our model's parameters to try and improve the loss (**gradient descent**)"
   ]
  },
  {
   "cell_type": "code",
   "execution_count": 15,
   "metadata": {},
   "outputs": [
    {
     "name": "stdout",
     "output_type": "stream",
     "text": [
      "Epoch 0: Training loss: 0.31288135051727295, Testing loss: 0.48106518387794495\n",
      "Epoch 10: Training loss: 0.1976713389158249, Testing loss: 0.3463551998138428\n",
      "Epoch 20: Training loss: 0.08908725529909134, Testing loss: 0.2172965705394745\n",
      "Epoch 30: Training loss: 0.053148530423641205, Testing loss: 0.14464019238948822\n",
      "Epoch 40: Training loss: 0.04543796554207802, Testing loss: 0.11360953748226166\n",
      "Epoch 50: Training loss: 0.04167863354086876, Testing loss: 0.09919948130846024\n",
      "Epoch 60: Training loss: 0.03818932920694351, Testing loss: 0.08886633813381195\n",
      "Epoch 70: Training loss: 0.03476089984178543, Testing loss: 0.0805937722325325\n",
      "Epoch 80: Training loss: 0.03132382780313492, Testing loss: 0.07232122868299484\n",
      "Epoch 90: Training loss: 0.027887403964996338, Testing loss: 0.06473556160926819\n"
     ]
    }
   ],
   "source": [
    "torch.manual_seed(42)\n",
    "\n",
    "# An epoch is one loop through the data... (this is a hyperparameter because we've set it ourselves)\n",
    "# Set the number of epochs (how many times the model will pass over the training data)\n",
    "epochs = 100\n",
    "\n",
    "# Create empty loss lists to track values\n",
    "train_loss_values = []\n",
    "test_loss_values = []\n",
    "epoch_count = []\n",
    "\n",
    "# 0. Loop through the data\n",
    "for epoch in range(epochs):\n",
    "    # Set the model tot training mode\n",
    "    # Put model in training mode (this is the default state of a model)\n",
    "    model_0.train() # train mode in PyTorch set sets all parameters that require gradients to require gradients\n",
    "\n",
    "    # 1. Forward pass on train data using the forward() method inside\n",
    "    y_pred = model_0(X_train)\n",
    "\n",
    "    # 2. Calculate the loss\n",
    "    loss = loss_fn(y_pred, y_train)\n",
    "\n",
    "    # 3. Optimizer zero grad\n",
    "    optimizer.zero_grad()\n",
    "\n",
    "    # 4. Perform backpropagation on the loss with respect to the parameters of the model\n",
    "    loss.backward()\n",
    "\n",
    "    # 5. Step the optimizer (perform gradient descent)\n",
    "    optimizer.step()    # by default how the optimizer changes will accumulate through the loop, so... we have to zero them above in step 3 for each loop\n",
    "\n",
    "    ### Testing\n",
    "    # Put the model in evaluation mode\n",
    "    model_0.eval()  # turns off different setting in the model not needed for evaluation/testing (like dropout/batch norm layers)\n",
    "    with torch.inference_mode():    # turns off gradient tracking & a couple more things behind the scenes\n",
    "    # with torch.no_grad(): # you may also see torch.no_grad() in older PyTorch code\n",
    "        # 1. Do the forward pass on test data\n",
    "        y_test_pred = model_0(X_test)\n",
    "\n",
    "        # 2. Calculate the loss\n",
    "        test_loss = loss_fn(y_test_pred, y_test.type(torch.float))  # predictions come in torch.float datatype, so comparisions need to be done with tensors of the same type\n",
    "\n",
    "        # Print out what's happening\n",
    "        if epoch % 10 == 0:\n",
    "            epoch_count.append(epoch)\n",
    "            train_loss_values.append(loss.detach().numpy())\n",
    "            test_loss_values.append(test_loss.detach().numpy())\n",
    "            print(f\"Epoch {epoch}: Training loss: {loss}, Testing loss: {test_loss}\")"
   ]
  },
  {
   "cell_type": "code",
   "execution_count": 16,
   "metadata": {},
   "outputs": [
    {
     "data": {
      "text/plain": [
       "<matplotlib.legend.Legend at 0x132dc2c30>"
      ]
     },
     "execution_count": 16,
     "metadata": {},
     "output_type": "execute_result"
    },
    {
     "data": {
      "image/png": "[encoded data removed]",
      "text/plain": [
       "<Figure size 640x480 with 1 Axes>"
      ]
     },
     "metadata": {},
     "output_type": "display_data"
    }
   ],
   "source": [
    "plt.plot(epoch_count, train_loss_values, label='Training loss')\n",
    "plt.plot(epoch_count, test_loss_values, label='Testing loss')\n",
    "plt.xlabel('Epochs')\n",
    "plt.ylabel('Loss')\n",
    "plt.title('Training and Testing Loss')\n",
    "plt.legend()"
   ]
  },
  {
   "cell_type": "code",
   "execution_count": 17,
   "metadata": {},
   "outputs": [
    {
     "name": "stdout",
     "output_type": "stream",
     "text": [
      "The model learned the following values for weights and bias:\n",
      "OrderedDict({'weights': tensor([0.5784]), 'bias': tensor([0.3513])})\n",
      "\n",
      "And the original values for weights and bias are:\n",
      "weights: 0.7, bias: 0.3\n"
     ]
    }
   ],
   "source": [
    "# Find our model's learned parameters\n",
    "print(\"The model learned the following values for weights and bias:\")\n",
    "print(model_0.state_dict())\n",
    "print(\"\\nAnd the original values for weights and bias are:\")\n",
    "print(f\"weights: {weight}, bias: {bias}\")"
   ]
  },
  {
   "cell_type": "code",
   "execution_count": 18,
   "metadata": {},
   "outputs": [
    {
     "data": {
      "text/plain": [
       "tensor([[0.8141],\n",
       "        [0.8256],\n",
       "        [0.8372],\n",
       "        [0.8488],\n",
       "        [0.8603],\n",
       "        [0.8719],\n",
       "        [0.8835],\n",
       "        [0.8950],\n",
       "        [0.9066],\n",
       "        [0.9182]])"
      ]
     },
     "execution_count": 18,
     "metadata": {},
     "output_type": "execute_result"
    }
   ],
   "source": [
    "# 1. Set the model in evaluation mode\n",
    "model_0.eval()\n",
    "\n",
    "# 2. Setup the inference mode context manager\n",
    "with torch.inference_mode():\n",
    "    # 3. Make sure that calculations are done with the model and data on the same device\n",
    "    # in our case, we haven't setup device-agnostic code yet so our data and model are\n",
    "    # on the CPU by default\n",
    "    # model_0.to(device)\n",
    "    # X_test = X_test.to(device)\n",
    "    y_preds = model_0(X_test)\n",
    "y_preds"
   ]
  },
  {
   "cell_type": "code",
   "execution_count": 19,
   "metadata": {},
   "outputs": [
    {
     "data": {
      "image/png": "[encoded data removed]",
      "text/plain": [
       "<Figure size 1000x700 with 1 Axes>"
      ]
     },
     "metadata": {},
     "output_type": "display_data"
    }
   ],
   "source": [
    "plot_predictions(predictions=y_preds)"
   ]
  },
  {
   "cell_type": "markdown",
   "metadata": {},
   "source": [
    "## Saving a model in PyTorch\n",
    "There are three main methods you should about for saving and loading models in PyTorch.\n",
    "1. `torch.save()` - allows you save a PyTorch object in Python's pickle format\n",
    "2. `torch.load()` - allows you load a saved PyTorch object\n",
    "3. `torch.nn.Module.load_state_dict()` - this allos to load a model's saved stated dictionary"
   ]
  },
  {
   "cell_type": "code",
   "execution_count": 20,
   "metadata": {},
   "outputs": [
    {
     "name": "stdout",
     "output_type": "stream",
     "text": [
      "Saving model to: models/01_pytorch_workflow_model_0.pth\n"
     ]
    }
   ],
   "source": [
    "# Saving a PyTorch model's state_dict()\n",
    "\n",
    "from pathlib import Path\n",
    "\n",
    "# 1. Create models directory\n",
    "MODEL_PATH = Path(\"models\")\n",
    "MODEL_PATH.mkdir(exist_ok=True, parents=True)\n",
    "\n",
    "# 2. Create model save path\n",
    "MODEL_NAME = \"01_pytorch_workflow_model_0.pth\"\n",
    "MODEL_SAVE_PATH = MODEL_PATH / MODEL_NAME\n",
    "\n",
    "# 3. Save the model state dict\n",
    "print(f\"Saving model to: {MODEL_SAVE_PATH}\")\n",
    "torch.save(obj=model_0.state_dict(), f=MODEL_SAVE_PATH) # only saving the state_dict() only saves the models learned parameters"
   ]
  },
  {
   "cell_type": "code",
   "execution_count": 21,
   "metadata": {},
   "outputs": [
    {
     "name": "stdout",
     "output_type": "stream",
     "text": [
      "-rw-r--r--@ 1 whiteknight  staff  1680 Mar 27 16:30 models/01_pytorch_workflow_model_0.pth\n"
     ]
    }
   ],
   "source": [
    "# Check the saved file path\n",
    "!ls -l models/01_pytorch_workflow_model_0.pth"
   ]
  },
  {
   "cell_type": "markdown",
   "metadata": {},
   "source": [
    "## Loading a PyTorch model\n",
    "\n",
    "Since we saved our model's `stated_dict()` rather the entire model, we'll create a new instance of our model class and load the saved `state_dict()` into that"
   ]
  },
  {
   "cell_type": "code",
   "execution_count": 22,
   "metadata": {},
   "outputs": [
    {
     "data": {
      "text/plain": [
       "<All keys matched successfully>"
      ]
     },
     "execution_count": 22,
     "metadata": {},
     "output_type": "execute_result"
    }
   ],
   "source": [
    "# To load in a saved stated_dict we have to initiantiate a new instance of our model class\n",
    "loaded_model_0 = LinearRegressionModel()\n",
    "\n",
    "# Load the state_dict of our saved model (this will update the new instance of our model with trained weights)\n",
    "loaded_model_0.load_state_dict(torch.load(f=MODEL_SAVE_PATH))"
   ]
  },
  {
   "cell_type": "code",
   "execution_count": 23,
   "metadata": {},
   "outputs": [],
   "source": [
    "# 1. Put the loaded model into evaluation mode\n",
    "loaded_model_0.eval()\n",
    "\n",
    "# 2. Use the inference mode context manager to make predictions\n",
    "with torch.inference_mode():\n",
    "    loaded_model_preds = loaded_model_0(X_test) # perform a forward pass on the test data with the loaded model"
   ]
  },
  {
   "cell_type": "code",
   "execution_count": 24,
   "metadata": {},
   "outputs": [
    {
     "data": {
      "text/plain": [
       "tensor([[True],\n",
       "        [True],\n",
       "        [True],\n",
       "        [True],\n",
       "        [True],\n",
       "        [True],\n",
       "        [True],\n",
       "        [True],\n",
       "        [True],\n",
       "        [True]])"
      ]
     },
     "execution_count": 24,
     "metadata": {},
     "output_type": "execute_result"
    }
   ],
   "source": [
    "# Compare previous model predictions with loaded model predictions (these should be the same)\n",
    "y_preds == loaded_model_preds"
   ]
  },
  {
   "cell_type": "markdown",
   "metadata": {},
   "source": [
    "## 6. Putting it all together\n",
    "\n",
    "Let's go back through the steps above and see it all in one place"
   ]
  },
  {
   "cell_type": "markdown",
   "metadata": {},
   "source": [
    "Create device-agnostic code.\n",
    "\n",
    "This means if we've got access to a GPU, our code will use it (for potentially faster computing).\n",
    "\n",
    "If no GPU is available, the code will default to using CPU."
   ]
  },
  {
   "cell_type": "code",
   "execution_count": 25,
   "metadata": {},
   "outputs": [
    {
     "name": "stdout",
     "output_type": "stream",
     "text": [
      "Using mps device\n"
     ]
    }
   ],
   "source": [
    "import torch\n",
    "from torch import nn\n",
    "import matplotlib.pyplot as plt\n",
    "\n",
    "# Set up device agnostic code\n",
    "# device = \"cuda\" if torch.cuda.is_available() else \"cpu\"\n",
    "# I'm using M4 Max, so I'll use MPS, No CUDA, not cpu\n",
    "device = \"mps\" if torch.backends.mps.is_available() else \"cuda\" if torch.cuda.is_available() else \"cpu\"\n",
    "print(f\"Using {device} device\")\n",
    "# Using cpu device"
   ]
  },
  {
   "cell_type": "markdown",
   "metadata": {},
   "source": [
    "### 6.1 Data"
   ]
  },
  {
   "cell_type": "code",
   "execution_count": 26,
   "metadata": {},
   "outputs": [
    {
     "data": {
      "text/plain": [
       "(tensor([[0.0000],\n",
       "         [0.0200],\n",
       "         [0.0400],\n",
       "         [0.0600],\n",
       "         [0.0800],\n",
       "         [0.1000],\n",
       "         [0.1200],\n",
       "         [0.1400],\n",
       "         [0.1600],\n",
       "         [0.1800]]),\n",
       " tensor([[0.3000],\n",
       "         [0.3140],\n",
       "         [0.3280],\n",
       "         [0.3420],\n",
       "         [0.3560],\n",
       "         [0.3700],\n",
       "         [0.3840],\n",
       "         [0.3980],\n",
       "         [0.4120],\n",
       "         [0.4260]]))"
      ]
     },
     "execution_count": 26,
     "metadata": {},
     "output_type": "execute_result"
    }
   ],
   "source": [
    "# Create some data using the linear regression formulas of y = weight * X + bias\n",
    "weight = 0.7\n",
    "bias = 0.3\n",
    "\n",
    "# Create range values\n",
    "start = 0\n",
    "end = 1\n",
    "step = 0.02\n",
    "\n",
    "# Create X and y (features and labels)\n",
    "X = torch.arange(start, end, step).unsqueeze(dim=1) # without unsqueeze, errors will pop up\n",
    "y = weight * X + bias\n",
    "X[:10], y[:10]"
   ]
  },
  {
   "cell_type": "code",
   "execution_count": 27,
   "metadata": {},
   "outputs": [
    {
     "data": {
      "text/plain": [
       "(40, 10, 40, 10)"
      ]
     },
     "execution_count": 27,
     "metadata": {},
     "output_type": "execute_result"
    }
   ],
   "source": [
    "# Split data\n",
    "train_split = int(0.8 * len(X))\n",
    "X_train, y_train = X[:train_split], y[:train_split]\n",
    "X_test, y_test = X[train_split:], y[train_split:]\n",
    "\n",
    "len(X_train), len(X_test), len(y_train), len(y_test)"
   ]
  },
  {
   "cell_type": "code",
   "execution_count": 28,
   "metadata": {},
   "outputs": [
    {
     "data": {
      "image/png": "[encoded data removed]",
      "text/plain": [
       "<Figure size 1000x700 with 1 Axes>"
      ]
     },
     "metadata": {},
     "output_type": "display_data"
    }
   ],
   "source": [
    "# Plot the data\n",
    "# Note: if you don't have the plot_predictions() function loaded, this will error\n",
    "plot_predictions(X_train, y_train, X_test, y_test)"
   ]
  },
  {
   "cell_type": "markdown",
   "metadata": {},
   "source": [
    "### 6.2 Building a PyTorch Linear model"
   ]
  },
  {
   "cell_type": "code",
   "execution_count": 29,
   "metadata": {},
   "outputs": [
    {
     "data": {
      "text/plain": [
       "(LinearRegressionModelV2(\n",
       "   (linear_layer): Linear(in_features=1, out_features=1, bias=True)\n",
       " ),\n",
       " OrderedDict([('linear_layer.weight', tensor([[0.7645]])),\n",
       "              ('linear_layer.bias', tensor([0.8300]))]))"
      ]
     },
     "execution_count": 29,
     "metadata": {},
     "output_type": "execute_result"
    }
   ],
   "source": [
    "# Create a linear model by subclassing nn.Module\n",
    "class LinearRegressionModelV2(nn.Module):\n",
    "    def __init__(self):\n",
    "        super().__init__()\n",
    "        # Use nn.Linear() for creating the model parameters / also called: linear transform, probing layer, fully connected layer, dense layer\n",
    "        self.linear_layer = nn.Linear(in_features=1, out_features=1)\n",
    "    \n",
    "    def forward(self, x: torch.Tensor) -> torch.Tensor:\n",
    "        return self.linear_layer(x)\n",
    "    \n",
    "# Set the manual seed when creating the model (this isn't always need but is used for demonstrative purposes,\n",
    "# try commenting it out and seeing what happens)\n",
    "torch.manual_seed(42)\n",
    "model_1 = LinearRegressionModelV2()\n",
    "model_1, model_1.state_dict()"
   ]
  },
  {
   "cell_type": "code",
   "execution_count": 30,
   "metadata": {},
   "outputs": [
    {
     "data": {
      "text/plain": [
       "device(type='cpu')"
      ]
     },
     "execution_count": 30,
     "metadata": {},
     "output_type": "execute_result"
    }
   ],
   "source": [
    "# Check the model current device\n",
    "next(model_1.parameters()).device"
   ]
  },
  {
   "cell_type": "code",
   "execution_count": 31,
   "metadata": {},
   "outputs": [
    {
     "data": {
      "text/plain": [
       "device(type='mps', index=0)"
      ]
     },
     "execution_count": 31,
     "metadata": {},
     "output_type": "execute_result"
    }
   ],
   "source": [
    "# Set the model to use the target device\n",
    "model_1.to(device)\n",
    "next(model_1.parameters()).device"
   ]
  },
  {
   "cell_type": "code",
   "execution_count": 32,
   "metadata": {},
   "outputs": [
    {
     "data": {
      "text/plain": [
       "OrderedDict([('linear_layer.weight', tensor([[0.7645]], device='mps:0')),\n",
       "             ('linear_layer.bias', tensor([0.8300], device='mps:0'))])"
      ]
     },
     "execution_count": 32,
     "metadata": {},
     "output_type": "execute_result"
    }
   ],
   "source": [
    "model_1.state_dict()"
   ]
  },
  {
   "cell_type": "markdown",
   "metadata": {},
   "source": [
    "### 6.3 Training\n",
    "\n",
    "For training we need:\n",
    "* Loss function\n",
    "* Optimizer\n",
    "* Training loop\n",
    "* Testing loop"
   ]
  },
  {
   "cell_type": "code",
   "execution_count": 33,
   "metadata": {},
   "outputs": [],
   "source": [
    "# Setup loss function\n",
    "loss_fn = nn.L1Loss()   # Same as MAE loss\n",
    "\n",
    "# Setup our optimizer\n",
    "optimizer = torch.optim.SGD(model_1.parameters(), lr=0.01)  # optimze newly created model's parameters"
   ]
  },
  {
   "cell_type": "code",
   "execution_count": 34,
   "metadata": {},
   "outputs": [
    {
     "name": "stdout",
     "output_type": "stream",
     "text": [
      "Epoch 0: Training loss: 0.5551779270172119, Testing loss: 0.5739762783050537\n",
      "Epoch 100: Training loss: 0.006215682718902826, Testing loss: 0.014086711220443249\n",
      "Epoch 200: Training loss: 0.0012645088136196136, Testing loss: 0.013801807537674904\n",
      "Epoch 300: Training loss: 0.0012645088136196136, Testing loss: 0.013801807537674904\n",
      "Epoch 400: Training loss: 0.0012645088136196136, Testing loss: 0.013801807537674904\n",
      "Epoch 500: Training loss: 0.0012645088136196136, Testing loss: 0.013801807537674904\n",
      "Epoch 600: Training loss: 0.0012645088136196136, Testing loss: 0.013801807537674904\n",
      "Epoch 700: Training loss: 0.0012645088136196136, Testing loss: 0.013801807537674904\n",
      "Epoch 800: Training loss: 0.0012645088136196136, Testing loss: 0.013801807537674904\n",
      "Epoch 900: Training loss: 0.0012645088136196136, Testing loss: 0.013801807537674904\n"
     ]
    }
   ],
   "source": [
    "# Let's write a training loop\n",
    "torch.manual_seed(42)\n",
    "\n",
    "# Set the number of epochs\n",
    "epochs = 1000\n",
    "\n",
    "# Put data on the available device\n",
    "# Without this, error will happen (not all model/data on device)\n",
    "X_train = X_train.to(device)\n",
    "X_test = X_test.to(device)\n",
    "y_train = y_train.to(device)\n",
    "y_test = y_test.to(device)\n",
    "\n",
    "for epoch in range(epochs):\n",
    "    ### Training\n",
    "    model_1.train() # train mode is on by default after construction\n",
    "\n",
    "    # 1. Forward pass\n",
    "    y_pred = model_1(X_train)\n",
    "\n",
    "    # 2. Calculate loss\n",
    "    loss = loss_fn(y_pred, y_train)\n",
    "\n",
    "    # 3. Optimizer zero grad\n",
    "    optimizer.zero_grad()\n",
    "\n",
    "    # 4. Perform backpropagation\n",
    "    loss.backward()\n",
    "\n",
    "    # 5. Step the optimizer\n",
    "    optimizer.step()\n",
    "\n",
    "    ### Testing\n",
    "    model_1.eval() # put the model in evaluation mode for testing (inference)\n",
    "\n",
    "    with torch.inference_mode():\n",
    "        y_test_pred = model_1(X_test)\n",
    "\n",
    "        # 2. Calculate loss\n",
    "        test_loss = loss_fn(y_test_pred, y_test)\n",
    "    \n",
    "    # Print out what's happening\n",
    "    if epoch % 100 == 0:\n",
    "        print(f\"Epoch {epoch}: Training loss: {loss}, Testing loss: {test_loss}\")"
   ]
  },
  {
   "cell_type": "code",
   "execution_count": 35,
   "metadata": {},
   "outputs": [
    {
     "name": "stdout",
     "output_type": "stream",
     "text": [
      "The model learned the following values for weights and bias:\n",
      "OrderedDict([('linear_layer.weight', tensor([[0.6968]], device='mps:0')),\n",
      "             ('linear_layer.bias', tensor([0.3025], device='mps:0'))])\n",
      "\n",
      "And the original values for weights and bias are:\n",
      "weights: 0.7, bias: 0.3\n"
     ]
    }
   ],
   "source": [
    "from pprint import pprint # pretty print\n",
    "print(\"The model learned the following values for weights and bias:\")\n",
    "pprint(model_1.state_dict())\n",
    "print(\"\\nAnd the original values for weights and bias are:\")\n",
    "print(f\"weights: {weight}, bias: {bias}\")"
   ]
  },
  {
   "cell_type": "markdown",
   "metadata": {},
   "source": [
    "### 6.4 Making and evaluating predictions"
   ]
  },
  {
   "cell_type": "code",
   "execution_count": 41,
   "metadata": {},
   "outputs": [
    {
     "data": {
      "text/plain": [
       "tensor([[0.8600],\n",
       "        [0.8739],\n",
       "        [0.8878],\n",
       "        [0.9018],\n",
       "        [0.9157],\n",
       "        [0.9296],\n",
       "        [0.9436],\n",
       "        [0.9575],\n",
       "        [0.9714],\n",
       "        [0.9854]], device='mps:0')"
      ]
     },
     "execution_count": 41,
     "metadata": {},
     "output_type": "execute_result"
    }
   ],
   "source": [
    "# Turn model into evaluation mode\n",
    "model_1.eval()\n",
    "\n",
    "# Make predictions on the test data\n",
    "with torch.inference_mode():\n",
    "    y_preds = model_1(X_test)\n",
    "y_preds"
   ]
  },
  {
   "cell_type": "code",
   "execution_count": null,
   "metadata": {},
   "outputs": [
    {
     "data": {
      "image/png": "[encoded data removed]",
      "text/plain": [
       "<Figure size 1000x700 with 1 Axes>"
      ]
     },
     "metadata": {},
     "output_type": "display_data"
    }
   ],
   "source": [
    "# Check out our model predictions visually\n",
    "# plot_predictions(predictions=y_preds) # -> won't work... data not on CPU\n",
    "# NumPy is cpu based\n",
    "\n",
    "# Put data on the CPU and plot it\n",
    "plot_predictions(predictions=y_preds.cpu())"
   ]
  },
  {
   "cell_type": "markdown",
   "metadata": {},
   "source": [
    "### 6.5 Saving & loading a trained model"
   ]
  },
  {
   "cell_type": "code",
   "execution_count": 38,
   "metadata": {},
   "outputs": [
    {
     "name": "stdout",
     "output_type": "stream",
     "text": [
      "Saving model to: models/01_pytorch_workflow_model_1.pth\n"
     ]
    }
   ],
   "source": [
    "from pathlib import Path\n",
    "\n",
    "# 1. Create models directory\n",
    "MODEL_PATH = Path(\"models\")\n",
    "MODEL_PATH.mkdir(exist_ok=True, parents=True)\n",
    "\n",
    "# 2. Create model save path\n",
    "MODEL_NAME = \"01_pytorch_workflow_model_1.pth\"\n",
    "MODEL_SAVE_PATH = MODEL_PATH / MODEL_NAME\n",
    "\n",
    "# 3. Save the model state dict\n",
    "print(f\"Saving model to: {MODEL_SAVE_PATH}\")\n",
    "torch.save(obj=model_1.state_dict(), f=MODEL_SAVE_PATH)"
   ]
  },
  {
   "cell_type": "code",
   "execution_count": 44,
   "metadata": {},
   "outputs": [
    {
     "name": "stdout",
     "output_type": "stream",
     "text": [
      "Loaded model:\n",
      "LinearRegressionModelV2(\n",
      "  (linear_layer): Linear(in_features=1, out_features=1, bias=True)\n",
      ")\n",
      "Model on device:\n",
      "mps:0\n",
      "Model state dict:\n",
      "OrderedDict({'linear_layer.weight': tensor([[0.6968]], device='mps:0'), 'linear_layer.bias': tensor([0.3025], device='mps:0')})\n"
     ]
    }
   ],
   "source": [
    "# Load a PyTorch\n",
    "\n",
    "# Create a new instance of linear regression model v2\n",
    "loaded_model_1 = LinearRegressionModelV2()\n",
    "\n",
    "# Load the saved model_1 state_dict\n",
    "loaded_model_1.load_state_dict(torch.load(f=MODEL_SAVE_PATH))\n",
    "\n",
    "# Put the loaded model to device\n",
    "loaded_model_1.to(device)\n",
    "\n",
    "print(f\"Loaded model:\\n{loaded_model_1}\")\n",
    "print(f\"Model on device:\\n{next(loaded_model_1.parameters()).device}\")\n",
    "print(f\"Model state dict:\\n{loaded_model_1.state_dict()}\")"
   ]
  },
  {
   "cell_type": "code",
   "execution_count": 40,
   "metadata": {},
   "outputs": [
    {
     "data": {
      "text/plain": [
       "tensor([[True],\n",
       "        [True],\n",
       "        [True],\n",
       "        [True],\n",
       "        [True],\n",
       "        [True],\n",
       "        [True],\n",
       "        [True],\n",
       "        [True],\n",
       "        [True]], device='mps:0')"
      ]
     },
     "execution_count": 40,
     "metadata": {},
     "output_type": "execute_result"
    }
   ],
   "source": [
    "# Evaluate loaded model\n",
    "loaded_model_1.eval()\n",
    "with torch.inference_mode():\n",
    "    loaded_model_1_preds = loaded_model_1(X_test)\n",
    "y_preds == loaded_model_1_preds"
   ]
  }
 ],
 "metadata": {
  "kernelspec": {
   "display_name": "venv",
   "language": "python",
   "name": "python3"
  },
  "language_info": {
   "codemirror_mode": {
    "name": "ipython",
    "version": 3
   },
   "file_extension": ".py",
   "mimetype": "text/x-python",
   "name": "python",
   "nbconvert_exporter": "python",
   "pygments_lexer": "ipython3",
   "version": "3.12.8"
  }
 },
 "nbformat": 4,
 "nbformat_minor": 2
}
